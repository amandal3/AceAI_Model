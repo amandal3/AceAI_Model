{
 "cells": [
  {
   "cell_type": "markdown",
   "metadata": {},
   "source": [
    "## Input Video"
   ]
  },
  {
   "cell_type": "code",
   "execution_count": 1,
   "metadata": {},
   "outputs": [
    {
     "name": "stdout",
     "output_type": "stream",
     "text": [
      "Requirement already satisfied: opencv-python in /usr/local/lib/python3.7/site-packages (4.1.1.26)\r\n",
      "Requirement already satisfied: numpy>=1.14.5 in /Users/amandaly/Library/Python/3.7/lib/python/site-packages (from opencv-python) (1.17.2)\r\n"
     ]
    }
   ],
   "source": [
    "!pip3 install opencv-python"
   ]
  },
  {
   "cell_type": "code",
   "execution_count": 2,
   "metadata": {},
   "outputs": [
    {
     "name": "stderr",
     "output_type": "stream",
     "text": [
      "Using TensorFlow backend.\n",
      "/usr/local/lib/python3.7/site-packages/tensorflow/python/framework/dtypes.py:526: FutureWarning: Passing (type, 1) or '1type' as a synonym of type is deprecated; in a future version of numpy, it will be understood as (type, (1,)) / '(1,)type'.\n",
      "  _np_qint8 = np.dtype([(\"qint8\", np.int8, 1)])\n",
      "/usr/local/lib/python3.7/site-packages/tensorflow/python/framework/dtypes.py:527: FutureWarning: Passing (type, 1) or '1type' as a synonym of type is deprecated; in a future version of numpy, it will be understood as (type, (1,)) / '(1,)type'.\n",
      "  _np_quint8 = np.dtype([(\"quint8\", np.uint8, 1)])\n",
      "/usr/local/lib/python3.7/site-packages/tensorflow/python/framework/dtypes.py:528: FutureWarning: Passing (type, 1) or '1type' as a synonym of type is deprecated; in a future version of numpy, it will be understood as (type, (1,)) / '(1,)type'.\n",
      "  _np_qint16 = np.dtype([(\"qint16\", np.int16, 1)])\n",
      "/usr/local/lib/python3.7/site-packages/tensorflow/python/framework/dtypes.py:529: FutureWarning: Passing (type, 1) or '1type' as a synonym of type is deprecated; in a future version of numpy, it will be understood as (type, (1,)) / '(1,)type'.\n",
      "  _np_quint16 = np.dtype([(\"quint16\", np.uint16, 1)])\n",
      "/usr/local/lib/python3.7/site-packages/tensorflow/python/framework/dtypes.py:530: FutureWarning: Passing (type, 1) or '1type' as a synonym of type is deprecated; in a future version of numpy, it will be understood as (type, (1,)) / '(1,)type'.\n",
      "  _np_qint32 = np.dtype([(\"qint32\", np.int32, 1)])\n",
      "/usr/local/lib/python3.7/site-packages/tensorflow/python/framework/dtypes.py:535: FutureWarning: Passing (type, 1) or '1type' as a synonym of type is deprecated; in a future version of numpy, it will be understood as (type, (1,)) / '(1,)type'.\n",
      "  np_resource = np.dtype([(\"resource\", np.ubyte, 1)])\n"
     ]
    }
   ],
   "source": [
    "import pandas as pd\n",
    "import numpy as np # for mathematical operations\n",
    "from keras.utils import np_utils\n",
    "\n",
    "import keras\n",
    "from keras.models import Sequential, load_model\n",
    "from keras.applications.vgg16 import VGG16\n",
    "from keras.layers import Dense, InputLayer, Dropout, Flatten\n",
    "from keras.layers import Conv2D, MaxPooling2D, GlobalMaxPooling2D\n",
    "from keras.preprocessing import image\n",
    "from keras.utils import to_categorical\n",
    "from keras.callbacks import ModelCheckpoint\n",
    "from keras.applications.vgg16 import preprocess_input"
   ]
  },
  {
   "cell_type": "code",
   "execution_count": 3,
   "metadata": {},
   "outputs": [
    {
     "name": "stdout",
     "output_type": "stream",
     "text": [
      "WARNING:tensorflow:From /usr/local/lib/python3.7/site-packages/tensorflow/python/ops/resource_variable_ops.py:435: colocate_with (from tensorflow.python.framework.ops) is deprecated and will be removed in a future version.\n",
      "Instructions for updating:\n",
      "Colocations handled automatically by placer.\n"
     ]
    }
   ],
   "source": [
    "# fine-tuning the model architecture\n",
    "model = Sequential()\n",
    "model.add(InputLayer((24*3,)))    # input layer\n",
    "model.add(Dense(units=10, activation='sigmoid', input_shape=(24*3,))) # hidden layer\n",
    "model.add(Dense(2, activation='softmax'))    # output layer\n",
    "\n",
    "model.compile(loss='sparse_categorical_crossentropy',optimizer='Adam',metrics=['accuracy'])\n",
    "model = load_model('weight.hdf5')"
   ]
  },
  {
   "cell_type": "code",
   "execution_count": 4,
   "metadata": {},
   "outputs": [],
   "source": [
    "# going into folder with training data\n",
    "path=\"dataPoints_input/\"\n",
    "\n",
    "# creating a pandas dataframe \n",
    "train = pd.DataFrame()\n",
    "\n",
    "# get name of csv, assuming it's called vids\n",
    "file = \"vid.csv\"\n",
    "\n",
    "train = pd.read_csv(path + file, header=None)\n",
    "\n",
    "# creating empty dictionary named videoFrames_FILENAME\n",
    "locals()['videoFrames{}'.format(\"_\" + file.split(\".csv\")[0])] = {}\n",
    "# creating empty dictionary named videoCombo_FILENAME\n",
    "locals()['videoCombo{}'.format(\"_\" + file.split(\".csv\")[0])] = {}\n",
    "\n",
    "# number of points per frame\n",
    "n = 12\n",
    "    \n",
    "# create array for each frame and adds them to dictionary\n",
    "for i in range(len(train) // 12):\n",
    "    # grouping each frame and making one big array (with 12 x,y points) aka grouping 12 arrays into one array\n",
    "    data = train.to_numpy()[i * n:(i + 1) * n]\n",
    "    # deleting frame number from above array\n",
    "    data = np.delete(data, 0, 1)\n",
    "    # reshaping each frame array into 24, 1\n",
    "    data = np.reshape(data, (24, 1))\n",
    "    # creating tag with name of number of frame and adding above array as value into trainingFrames\n",
    "    locals()['videoFrames{}'.format(\"_\" + file.split(\".csv\")[0])]['{}'.format(i)] = data\n",
    "        \n",
    "# goes into each trainingFrame dictionary\n",
    "for i in locals()['videoFrames{}'.format(\"_\" + file.split(\".csv\")[0])]:\n",
    "    # if the point (???) is \n",
    "    if int(i) < (len(locals()['videoFrames{}'.format(\"_\" + file.split(\".csv\")[0])]))-3:\n",
    "        # counters for one and two above current frame respectively\n",
    "        j = int(i)+1\n",
    "        k = int(i)+2\n",
    "            \n",
    "        # creating local varriables that store current frame array and the two following\n",
    "        combine = locals()['videoFrames{}'.format(\"_\" + file.split(\".csv\")[0])]['{}'.format(i)]\n",
    "        combineTwo = locals()['videoFrames{}'.format(\"_\" + file.split(\".csv\")[0])]['{}'.format(j)]\n",
    "        combineThree = locals()['videoFrames{}'.format(\"_\" + file.split(\".csv\")[0])]['{}'.format(k)]\n",
    "            \n",
    "        # appending current frame with the following two frames\n",
    "        combine = np.append(combine, combineTwo, axis=1)\n",
    "        combine = np.append(combine, combineThree, axis=1)\n",
    "            \n",
    "        # creating tag with name of number of frame and adding above combo into trainingCombo\n",
    "        locals()['videoCombo{}'.format(\"_\" + file.split(\".csv\")[0])]['{}'.format(i)] = combine  \n",
    "\n",
    "# print(videoCombo_vid)"
   ]
  },
  {
   "cell_type": "code",
   "execution_count": 5,
   "metadata": {},
   "outputs": [
    {
     "name": "stdout",
     "output_type": "stream",
     "text": [
      "[0 0 0 0 0 0 0 0 0 0 0 0 0 0 0 0 0 0 0 0 0 0 0 0 0 0 0 0 0 0 0 0 0]\n",
      "100.0\n"
     ]
    }
   ],
   "source": [
    "size = len(locals()['videoCombo{}'.format(\"_\" + file.split(\".csv\")[0])])\n",
    "\n",
    "pts = []\n",
    "\n",
    "for i in range(0, size-1):\n",
    "    val = list(locals()['videoCombo{}'.format(\"_\" + file.split(\".csv\")[0])][\"{}\".format(i)])\n",
    "    pts.append(val)\n",
    "    \n",
    "data = np.array(pts)\n",
    "X = data.reshape(data.shape[0], 24*3)\n",
    "\n",
    "p = []\n",
    "nP = [0]\n",
    "\n",
    "pTags = model.predict_classes(X)\n",
    "print(pTags)\n",
    "for i in range(len(pTags)):\n",
    "    nP[0] = pTags[i]\n",
    "    p.append(nP[0])\n",
    "    \n",
    "# go into predict and calc the percentages of good vs bad ie 0 vs 1\n",
    "numGood = 0\n",
    "size = len(p)\n",
    "for i in range(len(p)):\n",
    "    numGood = p.count(0)\n",
    "accuracy = numGood/size * 100\n",
    "print(accuracy)\n",
    "\n",
    "# where in video is it bad (1) ?\n",
    "for i in range(len(p)):\n",
    "    if p[i] == 1:\n",
    "        print(i)"
   ]
  },
  {
   "cell_type": "code",
   "execution_count": null,
   "metadata": {},
   "outputs": [],
   "source": []
  }
 ],
 "metadata": {
  "kernelspec": {
   "display_name": "Python 3",
   "language": "python",
   "name": "python3"
  },
  "language_info": {
   "codemirror_mode": {
    "name": "ipython",
    "version": 3
   },
   "file_extension": ".py",
   "mimetype": "text/x-python",
   "name": "python",
   "nbconvert_exporter": "python",
   "pygments_lexer": "ipython3",
   "version": "3.7.4"
  }
 },
 "nbformat": 4,
 "nbformat_minor": 2
}
